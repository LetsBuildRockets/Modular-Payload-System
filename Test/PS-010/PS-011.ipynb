{
 "cells": [
  {
   "cell_type": "code",
   "execution_count": 2,
   "id": "479b1316-ac9d-4a8c-86c4-af3074ed71f6",
   "metadata": {},
   "outputs": [
    {
     "name": "stdout",
     "output_type": "stream",
     "text": [
      "DMM: +1.0071E+21\n",
      "Supply: HP6626A\n",
      "\n"
     ]
    }
   ],
   "source": [
    "import numpy as np\n",
    "import sys\n",
    "import time\n",
    "sys.path.append('../INST-Drivers/')\n",
    "from INST_6050A import INST_6050A\n",
    "from INST_6626A import INST_6626A\n",
    "from INST_8842A import INST_8842A\n",
    "\n",
    "dmm = INST_8842A(8)\n",
    "print (\"DMM: \" + dmm.identify())\n",
    "\n",
    "psu = INST_6626A(3)\n",
    "print (\"Supply: \" + psu.identify())\n",
    "\n",
    "#load = INST_6050A(22)\n",
    "#print (\"Electronic Load: \" + load.identify())"
   ]
  },
  {
   "cell_type": "code",
   "execution_count": null,
   "id": "43cf2346-c6b7-431c-98e6-c7f61a4e960f",
   "metadata": {},
   "outputs": [],
   "source": []
  }
 ],
 "metadata": {
  "kernelspec": {
   "display_name": "Python 3",
   "language": "python",
   "name": "python3"
  },
  "language_info": {
   "codemirror_mode": {
    "name": "ipython",
    "version": 3
   },
   "file_extension": ".py",
   "mimetype": "text/x-python",
   "name": "python",
   "nbconvert_exporter": "python",
   "pygments_lexer": "ipython3",
   "version": "3.9.4"
  }
 },
 "nbformat": 4,
 "nbformat_minor": 5
}
