{
 "cells": [
  {
   "cell_type": "code",
   "execution_count": 1,
   "id": "d5e46032-0091-49c8-97c1-7b626bd99c37",
   "metadata": {},
   "outputs": [
    {
     "name": "stdout",
     "output_type": "stream",
     "text": [
      "RIGOL TECHNOLOGIES,DS1054Z,DS1ZA192409533,00.04.04.SP3\n"
     ]
    }
   ],
   "source": [
    "import numpy as np\n",
    "import time\n",
    "from ds1054z import DS1054Z\n",
    "%matplotlib inline\n",
    "import matplotlib.pyplot as plt\n",
    "from scipy.signal import blackmanharris\n",
    "from matplotlib.ticker import EngFormatter\n",
    "from scipy import signal\n",
    "from IPython.display import Markdown, display\n",
    "\n",
    "scope = DS1054Z('192.168.1.252')\n",
    "print(scope.idn)\n",
    "\n",
    "def printmd(string, color=None):\n",
    "    if color != None:\n",
    "        string = \"<span style='color:{}'>{}</span>\".format(color, string)\n",
    "    display(Markdown(string))"
   ]
  },
  {
   "cell_type": "code",
   "execution_count": 2,
   "id": "2bf45286-aaab-470f-b249-d4b5387bafbf",
   "metadata": {
    "tags": []
   },
   "outputs": [
    {
     "data": {
      "text/markdown": [
       "### 2.11.4.5"
      ],
      "text/plain": [
       "<IPython.core.display.Markdown object>"
      ]
     },
     "metadata": {},
     "output_type": "display_data"
    },
    {
     "data": {
      "text/markdown": [
       "**Checking 2.11.4.5 - +5V rail rise shall be monotonic**"
      ],
      "text/plain": [
       "<IPython.core.display.Markdown object>"
      ]
     },
     "metadata": {},
     "output_type": "display_data"
    },
    {
     "name": "stdout",
     "output_type": "stream",
     "text": [
      "Setting up scope for checking rising monotonicity...\n",
      "Scope setup. Waiting for trigger.\n",
      "Triggered!\n",
      "Grabbing scope data...\n",
      "Grabbed scope data!\n",
      "Maximum Negative slew is -0.64 V/ms\n"
     ]
    },
    {
     "data": {
      "text/markdown": [
       "<span style='color:Green'>2.11.4.5 - PASSED</span>"
      ],
      "text/plain": [
       "<IPython.core.display.Markdown object>"
      ]
     },
     "metadata": {},
     "output_type": "display_data"
    },
    {
     "data": {
      "image/png": "[encoded data removed]",
      "text/plain": [
       "<Figure size 432x288 with 1 Axes>"
      ]
     },
     "metadata": {
      "needs_background": "light"
     },
     "output_type": "display_data"
    },
    {
     "data": {
      "image/png": "[encoded data removed]",
      "text/plain": [
       "<Figure size 432x288 with 2 Axes>"
      ]
     },
     "metadata": {
      "needs_background": "light"
     },
     "output_type": "display_data"
    }
   ],
   "source": [
    "reqnum = '2.11.4.5'\n",
    "printmd(\"### {}\".format(reqnum))\n",
    "printmd(\"**Checking {} - +5V rail rise shall be monotonic**\".format(reqnum))\n",
    "print(\"Setting up scope for checking rising monotonicity...\")\n",
    "scope.run()\n",
    "scope.display_only_channel(1)\n",
    "scope.set_probe_ratio(1,1)\n",
    "scope.memory_depth = 120e3\n",
    "scope.timebase_scale = 1e-3\n",
    "scope.set_channel_scale(1,1)\n",
    "scope.set_channel_offset(1,-3)\n",
    "scope.write(':TRIGger:MODE EDGE')\n",
    "scope.write(':TRIGger:COUPling DC')\n",
    "scope.write(':TRIGger:EDGe:SOURce CHANnel1')\n",
    "scope.write(':TRIGger:EDGe:SLOPe POSitive')\n",
    "scope.write(':TRIGger:EDGe:LEVel 2.5')\n",
    "scope.single()\n",
    "time.sleep(1)\n",
    "print(\"Scope setup. Waiting for trigger.\")\n",
    "while(scope.running):\n",
    "    time.sleep(1)\n",
    "print(\"Triggered!\")\n",
    "\n",
    "print(\"Grabbing scope data...\")\n",
    "V1 = scope.get_waveform_samples(1,mode='MAX')\n",
    "Ts1 = scope.waveform_time_values\n",
    "print(\"Grabbed scope data!\")\n",
    "\n",
    "monotonic_threshold = -4 # V/ms\n",
    "window_len = 301\n",
    "V2 = signal.savgol_filter(V1, window_length=window_len, polyorder=2, delta=(Ts1[1]-Ts1[0]))\n",
    "fig, ax = plt.subplots()\n",
    "ax.plot(Ts1,V1) \n",
    "ax.plot(Ts1,V2) \n",
    "formatter = EngFormatter(unit='s')\n",
    "ax.xaxis.set_major_formatter(formatter)\n",
    "plt.xlabel('Time')\n",
    "plt.ylabel('Volts')\n",
    "dvdt = signal.savgol_filter(V1, window_length=window_len, polyorder=2, deriv=1, delta=(Ts1[1]-Ts1[0]))*1e-3\n",
    "fig, ax = plt.subplots(2)\n",
    "ax[0].plot(Ts1,V2) \n",
    "ax[0].set(ylabel='Volts')\n",
    "ax[1].plot(Ts1,dvdt) \n",
    "ax[1].set(ylabel='Volts/s')\n",
    "formatter = EngFormatter(unit='s')\n",
    "ax[0].xaxis.set_major_formatter(formatter)\n",
    "ax[1].xaxis.set_major_formatter(formatter)\n",
    "plt.xlabel('Time')\n",
    "\n",
    "nmon = dvdt < monotonic_threshold\n",
    "for x in range(0,len(nmon)):\n",
    "    if nmon[x]:\n",
    "        ax[0].axvline(Ts1[x], color='red')\n",
    "\n",
    "minimum_slew = min(dvdt)\n",
    "print('Maximum Negative slew is {:.2f} V/ms'.format(minimum_slew))\n",
    "\n",
    "if(minimum_slew > monotonic_threshold):\n",
    "    printmd('{} - PASSED'.format(reqnum), color='Green')\n",
    "else:\n",
    "    printmd('{} - FAILED'.format(reqnum), color='Red')\n",
    "\n",
    "plt.show()"
   ]
  },
  {
   "cell_type": "code",
   "execution_count": 3,
   "id": "bdf5a169-9816-468f-8ed8-213b2b4bdbc5",
   "metadata": {
    "tags": []
   },
   "outputs": [
    {
     "data": {
      "text/markdown": [
       "### 2.11.4.4"
      ],
      "text/plain": [
       "<IPython.core.display.Markdown object>"
      ]
     },
     "metadata": {},
     "output_type": "display_data"
    },
    {
     "data": {
      "text/markdown": [
       "**Checking 2.11.4.4 - +5V rail rise time shall be no faster than **TBD** V/s**"
      ],
      "text/plain": [
       "<IPython.core.display.Markdown object>"
      ]
     },
     "metadata": {},
     "output_type": "display_data"
    },
    {
     "name": "stdout",
     "output_type": "stream",
     "text": [
      "+5V Rail rise slew rate is 3080.6 V/s\n"
     ]
    },
    {
     "data": {
      "text/markdown": [
       "<span style='color:Green'>2.11.4.4 - PASSED</span>"
      ],
      "text/plain": [
       "<IPython.core.display.Markdown object>"
      ]
     },
     "metadata": {},
     "output_type": "display_data"
    }
   ],
   "source": [
    "reqnum = '2.11.4.4'\n",
    "printmd(\"### {}\".format(reqnum))\n",
    "printmd(\"**Checking 2.11.4.4 - +5V rail rise time shall be no faster than 10 kV/s**\")\n",
    "rise_slew_rate = float(scope.query(':MEASure:ITEM? PSLEWrate,CHANnel1'))\n",
    "print('+5V Rail rise slew rate is {:.1f} V/s'.format(rise_slew_rate))\n",
    "if(minimum_slew < 10e3):\n",
    "    printmd('{} - PASSED'.format(reqnum), color='Green')\n",
    "else:\n",
    "    printmd('{} - FAILED'.format(reqnum), color='Red')\n"
   ]
  },
  {
   "cell_type": "code",
   "execution_count": 4,
   "id": "5a85831c-a027-41fd-a408-49f6a1dc2aa5",
   "metadata": {
    "tags": []
   },
   "outputs": [
    {
     "data": {
      "text/markdown": [
       "### 2.11.3.5"
      ],
      "text/plain": [
       "<IPython.core.display.Markdown object>"
      ]
     },
     "metadata": {},
     "output_type": "display_data"
    },
    {
     "data": {
      "text/markdown": [
       "**Checking 2.11.3.5- +12V rail rise shall be monotonic**"
      ],
      "text/plain": [
       "<IPython.core.display.Markdown object>"
      ]
     },
     "metadata": {},
     "output_type": "display_data"
    },
    {
     "name": "stdout",
     "output_type": "stream",
     "text": [
      "Setting up scope for checking rising monotonicity...\n",
      "Scope setup. Waiting for trigger.\n",
      "Triggered!\n",
      "Grabbing scope data...\n",
      "Grabbed scope data!\n",
      "Maximum Negative slew is -5.55 V/ms\n"
     ]
    },
    {
     "data": {
      "text/markdown": [
       "<span style='color:Red'>2.11.3.5 - FAILED</span>"
      ],
      "text/plain": [
       "<IPython.core.display.Markdown object>"
      ]
     },
     "metadata": {},
     "output_type": "display_data"
    },
    {
     "data": {
      "image/png": "[encoded data removed]",
      "text/plain": [
       "<Figure size 432x288 with 1 Axes>"
      ]
     },
     "metadata": {
      "needs_background": "light"
     },
     "output_type": "display_data"
    },
    {
     "data": {
      "image/png": "[encoded data removed]",
      "text/plain": [
       "<Figure size 432x288 with 2 Axes>"
      ]
     },
     "metadata": {
      "needs_background": "light"
     },
     "output_type": "display_data"
    }
   ],
   "source": [
    "reqnum = '2.11.3.5'\n",
    "printmd('### {}'.format(reqnum))\n",
    "printmd(\"**Checking {}- +12V rail rise shall be monotonic**\".format(reqnum))\n",
    "print(\"Setting up scope for checking rising monotonicity...\")\n",
    "scope.run()\n",
    "scope.display_only_channel(1)\n",
    "scope.set_probe_ratio(1,1)\n",
    "scope.memory_depth = 120e3\n",
    "scope.timebase_scale = 1e-3\n",
    "scope.set_channel_scale(1,2)\n",
    "scope.set_channel_offset(1,-6)\n",
    "scope.write(':TRIGger:MODE EDGE')\n",
    "scope.write(':TRIGger:COUPling DC')\n",
    "scope.write(':TRIGger:EDGe:SOURce CHANnel1')\n",
    "scope.write(':TRIGger:EDGe:SLOPe POSitive')\n",
    "scope.write(':TRIGger:EDGe:LEVel 5')\n",
    "scope.single()\n",
    "time.sleep(1)\n",
    "print(\"Scope setup. Waiting for trigger.\")\n",
    "while(scope.running):\n",
    "    time.sleep(1)\n",
    "print(\"Triggered!\")\n",
    "\n",
    "print(\"Grabbing scope data...\")\n",
    "V1 = scope.get_waveform_samples(1,mode='MAX')\n",
    "Ts1 = scope.waveform_time_values\n",
    "print(\"Grabbed scope data!\")\n",
    "\n",
    "monotonic_threshold = -4 # V/ms\n",
    "window_len = 301\n",
    "V2 = signal.savgol_filter(V1, window_length=window_len, polyorder=2, delta=(Ts1[1]-Ts1[0]))\n",
    "fig, ax = plt.subplots()\n",
    "ax.plot(Ts1,V1) \n",
    "ax.plot(Ts1,V2) \n",
    "formatter = EngFormatter(unit='s')\n",
    "ax.xaxis.set_major_formatter(formatter)\n",
    "plt.xlabel('Time')\n",
    "plt.ylabel('Volts')\n",
    "dvdt = signal.savgol_filter(V1, window_length=window_len, polyorder=2, deriv=1, delta=(Ts1[1]-Ts1[0]))*1e-3\n",
    "fig, ax = plt.subplots(2)\n",
    "ax[0].plot(Ts1,V2) \n",
    "ax[0].set(ylabel='Volts')\n",
    "ax[1].plot(Ts1,dvdt) \n",
    "ax[1].set(ylabel='Volts/s')\n",
    "formatter = EngFormatter(unit='s')\n",
    "ax[0].xaxis.set_major_formatter(formatter)\n",
    "ax[1].xaxis.set_major_formatter(formatter)\n",
    "plt.xlabel('Time')\n",
    "\n",
    "nmon = dvdt < monotonic_threshold\n",
    "for x in range(0,len(nmon)):\n",
    "    if nmon[x]:\n",
    "        ax[0].axvline(Ts1[x], color='red')\n",
    "\n",
    "minimum_slew = min(dvdt)\n",
    "print('Maximum Negative slew is {:.2f} V/ms'.format(minimum_slew))\n",
    "\n",
    "if(minimum_slew > monotonic_threshold):\n",
    "    printmd('{} - PASSED'.format(reqnum), color='Green')\n",
    "else:\n",
    "    printmd('{} - FAILED'.format(reqnum), color='Red')\n",
    "\n",
    "plt.show()"
   ]
  },
  {
   "cell_type": "code",
   "execution_count": 5,
   "id": "ef4f8fe6-a853-442f-8b1c-337bd1e762b3",
   "metadata": {
    "tags": []
   },
   "outputs": [
    {
     "data": {
      "text/markdown": [
       "### 2.11.3.4"
      ],
      "text/plain": [
       "<IPython.core.display.Markdown object>"
      ]
     },
     "metadata": {},
     "output_type": "display_data"
    },
    {
     "data": {
      "text/markdown": [
       "**Checking 2.11.3.4 - +12V rail rise time shall be no faster than **TBD** V/s**"
      ],
      "text/plain": [
       "<IPython.core.display.Markdown object>"
      ]
     },
     "metadata": {},
     "output_type": "display_data"
    },
    {
     "name": "stdout",
     "output_type": "stream",
     "text": [
      "+5V Rail rise slew rate is 6966.3 V/s\n"
     ]
    },
    {
     "data": {
      "text/markdown": [
       "<span style='color:Green'>2.11.3.4 - PASSED</span>"
      ],
      "text/plain": [
       "<IPython.core.display.Markdown object>"
      ]
     },
     "metadata": {},
     "output_type": "display_data"
    }
   ],
   "source": [
    "reqnum = '2.11.3.4'\n",
    "printmd('### {}'.format(reqnum))\n",
    "printmd('**Checking {} - +12V rail rise time shall be no faster than 10 kV/s**'.format(reqnum))\n",
    "rise_slew_rate = float(scope.query(':MEASure:ITEM? PSLEWrate,CHANnel1'))\n",
    "print('+12V Rail rise slew rate is {:.1f} V/s'.format(rise_slew_rate))\n",
    "if(minimum_slew < 10e3):\n",
    "    printmd('{} - PASSED'.format(reqnum), color='Green')\n",
    "else:\n",
    "    printmd('{} - FAILED'.format(reqnum), color='Red')\n"
   ]
  }
 ],
 "metadata": {
  "kernelspec": {
   "display_name": "Python 3",
   "language": "python",
   "name": "python3"
  },
  "language_info": {
   "codemirror_mode": {
    "name": "ipython",
    "version": 3
   },
   "file_extension": ".py",
   "mimetype": "text/x-python",
   "name": "python",
   "nbconvert_exporter": "python",
   "pygments_lexer": "ipython3",
   "version": "3.9.4"
  }
 },
 "nbformat": 4,
 "nbformat_minor": 5
}
