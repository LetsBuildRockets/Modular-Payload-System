{
 "cells": [
  {
   "cell_type": "code",
   "execution_count": 1,
   "metadata": {},
   "outputs": [
    {
     "name": "stdout",
     "output_type": "stream",
     "text": [
      "RIGOL TECHNOLOGIES,DS1054Z,DS1ZA192409533,00.04.04.SP3\n"
     ]
    }
   ],
   "source": [
    "import numpy as np\n",
    "import time\n",
    "from ds1054z import DS1054Z\n",
    "#%matplotlib inline\n",
    "import matplotlib.pyplot as plt\n",
    "from numpy.fft import fft\n",
    "from numpy.fft import fftshift\n",
    "from scipy.signal import blackmanharris\n",
    "from matplotlib.ticker import EngFormatter\n",
    "\n",
    "scope = DS1054Z('192.168.1.252')\n",
    "print(scope.idn)"
   ]
  },
  {
   "cell_type": "code",
   "execution_count": 7,
   "metadata": {},
   "outputs": [],
   "source": [
    "def get_transfer(Ts,V1,V2):\n",
    "    N=2**14\n",
    "    X1A = 1/N*fftshift(fft(V1,N)) #N-point complex DFT\n",
    "    X2A = 1/N*fftshift(fft(V2,N)) #N-point complex DFT\n",
    "\n",
    "    mag1 = abs(X1A)\n",
    "    mag2 = abs(X2A)\n",
    "\n",
    "    Fs=1/(Ts[1]-Ts[0])\n",
    "    df=Fs/N #%frequency resolution\n",
    "    sampleIndex = np.arange(-N/2,N/2)\n",
    "    f=sampleIndex*df\n",
    "\n",
    "    thres = max(mag1)/10\n",
    "\n",
    "    X1B = np.copy(X1A)\n",
    "    X1B[mag1 < thres] = 0\n",
    "    phase1=np.arctan2(np.imag(X1B),np.real(X1B))*180/np.pi\n",
    "\n",
    "    X2B = np.copy(X2A)\n",
    "    X2B[mag2 < thres] = 0\n",
    "    phase2=np.arctan2(np.imag(X2B),np.real(X2B))*180/np.pi\n",
    "    \"\"\"\n",
    "    fig, (ax1,ax2) = plt.subplots(2)\n",
    "    ax1.plot(f,mag1)\n",
    "    ax1.plot(f,mag2)\n",
    "    ax2.plot(f,phase1)\n",
    "    ax2.plot(f,phase2)\n",
    "    ax1.set_xscale('log')\n",
    "    ax1.set_yscale('log')\n",
    "    ax2.set_xscale('log')\n",
    "    ax2.set_ylim([-180, 180])\n",
    "    ax1.set_xlim([1e1,1e5])\n",
    "    ax2.set_xlim([1e1,1e5])\n",
    "    plt.show()\n",
    "    \"\"\"\n",
    "    f_single=f[int(N/2):N]\n",
    "    mag1_single=mag1[int(N/2):N]\n",
    "    index_of_peak1=mag1_single.argmax()\n",
    "    #print('Peak Mag.',mag1[int(N/2)+index_of_peak1])\n",
    "    print('at Freq.',f[int(N/2)+index_of_peak1])\n",
    "    #print('with phase',phase1[int(N/2)+index_of_peak1],'deg')\n",
    "\n",
    "\n",
    "    #print('Peak Mag.',mag2[int(N/2)+index_of_peak1])\n",
    "    #print('at Freq.',f[int(N/2)+index_of_peak1])\n",
    "    #print('with phase',phase2[int(N/2)+index_of_peak1],'deg')\n",
    "\n",
    "    gain = (mag2[int(N/2)+index_of_peak1]) / (mag1[int(N/2)+index_of_peak1])\n",
    "    phase_shift = (((phase2[int(N/2)+index_of_peak1]) - (phase1[int(N/2)+index_of_peak1])) + 180) % 360 - 180\n",
    "\n",
    "    #print()\n",
    "    print('gain:', gain)\n",
    "    print('phase shift:', phase_shift)\n",
    "    print()\n",
    "    return (f[int(N/2)+index_of_peak1], gain, phase_shift)"
   ]
  },
  {
   "cell_type": "code",
   "execution_count": 8,
   "metadata": {},
   "outputs": [
    {
     "name": "stdout",
     "output_type": "stream",
     "text": [
      "Press Enter to continue...\n",
      "at Freq. 167.8466796875\n",
      "gain: 0.9860957612745496\n",
      "phase shift: -5.858116761223613\n",
      "\n",
      "Press Enter to continue...\n",
      "at Freq. 274.658203125\n",
      "gain: 0.9798409529058338\n",
      "phase shift: -9.636260998098777\n",
      "\n",
      "Press Enter to continue...\n",
      "at Freq. 488.28125\n",
      "gain: 0.9484509111627958\n",
      "phase shift: -16.749508272860027\n",
      "\n",
      "Press Enter to continue...\n",
      "at Freq. 808.7158203125\n",
      "gain: 0.8854254385556722\n",
      "phase shift: -26.440852145585154\n",
      "\n",
      "Press Enter to continue...\n",
      "at Freq. 1556.396484375\n",
      "gain: 0.7218411344709659\n",
      "phase shift: -42.94492620969359\n",
      "\n"
     ]
    },
    {
     "data": {
      "image/png": "[encoded data removed]",
      "text/plain": [
       "<Figure size 432x288 with 2 Axes>"
      ]
     },
     "metadata": {
      "needs_background": "light"
     },
     "output_type": "display_data"
    }
   ],
   "source": [
    "data = []\n",
    "for n in range(5):\n",
    "    input(\"Press Enter to continue...\")\n",
    "    scale = scope.timebase_scale\n",
    "    scope.timebase_scale = scale*100\n",
    "    if(not scope.running):\n",
    "        scope.run()\n",
    "    time.sleep(1)\n",
    "    scope.memory_depth = 120e3\n",
    "    time.sleep(1)\n",
    "    scope.single()\n",
    "    time.sleep(1)\n",
    "    V1 = scope.get_waveform_samples(1,mode='MAX')\n",
    "    V2 = scope.get_waveform_samples(2,mode='MAX')\n",
    "    Ts = scope.waveform_time_values\n",
    "    scope.timebase_scale = scale\n",
    "    scope.run()\n",
    "    \n",
    "    data.append(get_transfer(Ts,V1,V2))\n",
    "    \n",
    "fig, (ax1,ax2) = plt.subplots(2)\n",
    "f=[i[0] for i in data]\n",
    "gain=[i[1] for i in data]\n",
    "phase=[i[2] for i in data]\n",
    "ax1.plot(f,gain)\n",
    "ax2.plot(f,phase)\n",
    "ax1.set_xscale('log')\n",
    "ax1.set_yscale('log')\n",
    "ax2.set_xscale('log')\n",
    "plt.show()"
   ]
  },
  {
   "cell_type": "code",
   "execution_count": 23,
   "metadata": {},
   "outputs": [
    {
     "data": {
      "image/png": "[encoded data removed]",
      "text/plain": [
       "<Figure size 432x288 with 2 Axes>"
      ]
     },
     "metadata": {
      "needs_background": "light"
     },
     "output_type": "display_data"
    }
   ],
   "source": [
    "fig, (ax1,ax2) = plt.subplots(2)\n",
    "f=[i[0] for i in data]\n",
    "gain=[i[1] for i in data]\n",
    "phase=[i[2] for i in data]\n",
    "ax1.plot(f,20*np.log10(gain))\n",
    "ax2.plot(f,phase)\n",
    "ax1.set_xscale('log')\n",
    "ax2.set_xscale('log')\n",
    "plt.show()"
   ]
  }
 ],
 "metadata": {
  "kernelspec": {
   "display_name": "Python 3",
   "language": "python",
   "name": "python3"
  },
  "language_info": {
   "codemirror_mode": {
    "name": "ipython",
    "version": 3
   },
   "file_extension": ".py",
   "mimetype": "text/x-python",
   "name": "python",
   "nbconvert_exporter": "python",
   "pygments_lexer": "ipython3",
   "version": "3.9.4"
  }
 },
 "nbformat": 4,
 "nbformat_minor": 4
}
