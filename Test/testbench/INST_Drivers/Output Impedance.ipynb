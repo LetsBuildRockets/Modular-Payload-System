{
 "cells": [
  {
   "cell_type": "code",
   "execution_count": 1,
   "metadata": {},
   "outputs": [
    {
     "name": "stdout",
     "output_type": "stream",
     "text": [
      "Electronic Load: HEWLETT-PACKARD,6050A,0,A.01.01\n",
      "\n"
     ]
    }
   ],
   "source": [
    "import numpy as np\n",
    "import time\n",
    "from INST_6050A import INST_6050A\n",
    "\n",
    "load = INST_6050A(22)\n",
    "print (\"Electronic Load: \" + load.identify())"
   ]
  },
  {
   "cell_type": "code",
   "execution_count": 2,
   "metadata": {},
   "outputs": [
    {
     "name": "stdout",
     "output_type": "stream",
     "text": [
      "Load testing from 0.0000A to 1.8000A in 0.2000A steps...\n",
      "\n",
      "I\tV\n",
      "0.0000\t10.0110\n",
      "0.2000\t9.9940\n",
      "0.4000\t9.9610\n",
      "0.6000\t9.9450\n",
      "0.8000\t9.9280\n",
      "1.0000\t9.9110\n",
      "1.2000\t9.8950\n",
      "1.4000\t9.8780\n",
      "1.6000\t9.8450\n",
      "1.8000\t9.8280\n"
     ]
    }
   ],
   "source": [
    "minI = 0\n",
    "maxI = 1.8\n",
    "stepI = 0.2\n",
    "\n",
    "print(\"Load testing from {:0.4f}A to {:0.4f}A in {:0.4f}A steps...\".format(minI, maxI, stepI))\n",
    "print(\"\")\n",
    "print(\"I\\tV\")\n",
    "\n",
    "load.set(1,\"CC\",0)\n",
    "load.enable(1)\n",
    "Vs = []\n",
    "Is = []\n",
    "for I in np.arange(minI, maxI+stepI, stepI):\n",
    "    load.set(1,\"CC\",I)\n",
    "    time.sleep(1)\n",
    "    V = load.getVoltage(1)\n",
    "    print(\"{:0.4f}\\t{:0.4f}\".format(I,V))\n",
    "    Is.append(I)\n",
    "    Vs.append(V)\n",
    "load.disable(1)"
   ]
  },
  {
   "cell_type": "code",
   "execution_count": 3,
   "metadata": {},
   "outputs": [],
   "source": [
    "def linreg(x, y):\n",
    "   meanx = np.mean(x)\n",
    "   meany = np.mean(y)\n",
    "   sumxx2 = np.sum((x - meanx) ** 2)\n",
    "   sumxy = np.sum(((x - meanx) * (y - meany)))\n",
    "   m = sumxy / sumxx2\n",
    "   c = meany - m * meanx\n",
    "   return np.array([m, c])"
   ]
  },
  {
   "cell_type": "code",
   "execution_count": 4,
   "metadata": {},
   "outputs": [
    {
     "data": {
      "image/png": "[encoded data removed]",
      "text/plain": [
       "<Figure size 432x288 with 1 Axes>"
      ]
     },
     "metadata": {
      "needs_background": "light"
     },
     "output_type": "display_data"
    }
   ],
   "source": [
    "%matplotlib inline\n",
    "import matplotlib.pyplot as plt\n",
    "time.sleep(1)\n",
    "fit = linreg(Is, Vs)\n",
    "Vs_fit = []\n",
    "for I in Is:\n",
    "    Vs_fit.append(I*fit[0]+fit[1])\n",
    "plt.plot(Is,Vs, 'o', color='black', label='Measured I/V')\n",
    "plt.plot(Is,Vs_fit, '-', color='blue', label='Linear I/V Fit')\n",
    "plt.legend()\n",
    "plt.title('I/V Load line')\n",
    "plt.xlabel('Current (A)')\n",
    "plt.ylabel('Votlage (V)')\n",
    "plt.show()"
   ]
  },
  {
   "cell_type": "code",
   "execution_count": 5,
   "metadata": {},
   "outputs": [
    {
     "name": "stdout",
     "output_type": "stream",
     "text": [
      "Output Impedance: 0.099 ohms\n"
     ]
    }
   ],
   "source": [
    "print(\"Output Impedance: {:0.3f} ohms\".format(-fit[0]))"
   ]
  }
 ],
 "metadata": {
  "kernelspec": {
   "display_name": "Python 3",
   "language": "python",
   "name": "python3"
  },
  "language_info": {
   "codemirror_mode": {
    "name": "ipython",
    "version": 3
   },
   "file_extension": ".py",
   "mimetype": "text/x-python",
   "name": "python",
   "nbconvert_exporter": "python",
   "pygments_lexer": "ipython3",
   "version": "3.9.4"
  }
 },
 "nbformat": 4,
 "nbformat_minor": 4
}
