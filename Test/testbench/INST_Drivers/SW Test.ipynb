{
 "cells": [
  {
   "cell_type": "code",
   "execution_count": 1,
   "id": "4b7bd330-e5a1-495d-9f24-45128db0a2c0",
   "metadata": {},
   "outputs": [
    {
     "name": "stdout",
     "output_type": "stream",
     "text": [
      "HP3488A, RELAY MUX  44470, RELAY MUX  44470, RELAY MUX  44470, VHF SW     44472, MATRIX SW  44473\n"
     ]
    }
   ],
   "source": [
    "import time\n",
    "from INST_4388A import INST_4388A\n",
    "sw = INST_4388A(3)\n",
    "\n",
    "print(sw.identify())"
   ]
  },
  {
   "cell_type": "code",
   "execution_count": 2,
   "id": "fde37f1c-0055-4fbb-b371-c50a075c8e9b",
   "metadata": {},
   "outputs": [],
   "source": [
    "sw.setState([200], sw.CLOSED)\n",
    "time.sleep(1)"
   ]
  },
  {
   "cell_type": "code",
   "execution_count": 3,
   "id": "474b8ae7-9b64-4dd6-b170-a568920dcd02",
   "metadata": {},
   "outputs": [],
   "source": [
    "#sw.setState([100], sw.OPEN)"
   ]
  },
  {
   "cell_type": "code",
   "execution_count": 8,
   "id": "f3fc2efe-fa30-4ee8-84fb-3b51e0b6087c",
   "metadata": {},
   "outputs": [
    {
     "name": "stdout",
     "output_type": "stream",
     "text": [
      "OPEN  OPEN  OPEN  OPEN  OPEN  OPEN  OPEN  OPEN  OPEN  OPEN  \n",
      "OPEN  OPEN  OPEN  OPEN  OPEN  OPEN  OPEN  OPEN  OPEN  OPEN  \n",
      "OPEN  OPEN  OPEN  OPEN  OPEN  OPEN  OPEN  OPEN  OPEN  OPEN  \n"
     ]
    }
   ],
   "source": [
    "for i in range(1,4):\n",
    "    for j in range(0,10):\n",
    "        print('OPEN  ' if sw.getState(100*i+j)==sw.OPEN else 'CLOSE ',end='')\n",
    "    print()"
   ]
  },
  {
   "cell_type": "code",
   "execution_count": 9,
   "id": "ac71bc7f-d3c7-4e33-9a2d-c25f28ad4e06",
   "metadata": {},
   "outputs": [],
   "source": [
    "sw.reset()"
   ]
  },
  {
   "cell_type": "code",
   "execution_count": null,
   "id": "ad2e3876-611f-4d5f-baea-655b0976b4c8",
   "metadata": {},
   "outputs": [],
   "source": []
  }
 ],
 "metadata": {
  "kernelspec": {
   "display_name": "Python 3",
   "language": "python",
   "name": "python3"
  },
  "language_info": {
   "codemirror_mode": {
    "name": "ipython",
    "version": 3
   },
   "file_extension": ".py",
   "mimetype": "text/x-python",
   "name": "python",
   "nbconvert_exporter": "python",
   "pygments_lexer": "ipython3",
   "version": "3.9.4"
  }
 },
 "nbformat": 4,
 "nbformat_minor": 5
}
