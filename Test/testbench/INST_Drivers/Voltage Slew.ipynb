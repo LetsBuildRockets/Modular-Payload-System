{
 "cells": [
  {
   "cell_type": "code",
   "execution_count": 1,
   "metadata": {},
   "outputs": [
    {
     "name": "stdout",
     "output_type": "stream",
     "text": [
      "Supply: HP6626A\n",
      "\n"
     ]
    }
   ],
   "source": [
    "import numpy as np\n",
    "import time\n",
    "from INST_6626A import INST_6626A\n",
    "\n",
    "psu = INST_6626A(3)\n",
    "print (\"Supply: \" + psu.identify())\n",
    "\n",
    "psu.disable(1)\n",
    "psu.setVoltage(1,0)\n",
    "psu.enable(1)"
   ]
  },
  {
   "cell_type": "code",
   "execution_count": 2,
   "metadata": {},
   "outputs": [],
   "source": [
    "psu.slewOutput(1, 10, 3)\n",
    "psu.slewOutput(1, 5, 2)\n",
    "psu.slewOutput(1, 5, 1, startVoltage=0)\n",
    "psu.setVoltage(1,0)"
   ]
  }
 ],
 "metadata": {
  "kernelspec": {
   "display_name": "Python 3",
   "language": "python",
   "name": "python3"
  },
  "language_info": {
   "codemirror_mode": {
    "name": "ipython",
    "version": 3
   },
   "file_extension": ".py",
   "mimetype": "text/x-python",
   "name": "python",
   "nbconvert_exporter": "python",
   "pygments_lexer": "ipython3",
   "version": "3.9.4"
  }
 },
 "nbformat": 4,
 "nbformat_minor": 4
}
