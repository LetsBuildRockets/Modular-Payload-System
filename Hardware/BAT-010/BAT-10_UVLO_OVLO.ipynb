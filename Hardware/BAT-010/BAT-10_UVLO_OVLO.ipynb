{
 "cells": [
  {
   "cell_type": "code",
   "execution_count": 1,
   "metadata": {},
   "outputs": [],
   "source": [
    "from matplotlib.ticker import EngFormatter\n",
    "fmt_ohm = EngFormatter(unit='Ω')\n",
    "fmt_volts = EngFormatter(unit='V')\n",
    "\n",
    "ERJ_PB6B_series = [5.11e3, 1.6e3, 30e3, 267e3, 1.27e3, 7.15e3, 4.02e3, 22e3, 619e3, 470, 13e3, 64.9e3, 330, 38.3e3, 169e3, 634, 2.1e3, 316, 357e3, 191e3, 5.36e3, 14.7e3, 11.3e3, 205e3, 665, 15.4e3, 825, 15.8e3, 8.25e3, 20.5e3, 3.6e3, 261, 3e3, 332, 1.21e3, 604, 1.5e3, 17.4e3, 330e3, 511e3, 649e3, 3.83e3, 30.1e3, 2.43e3, 680, 4.12e3, 24e3, 80.6e3, 1.2e3, 300, 130e3, 140e3, 26.7e3, 84.5e3, 845, 453, 3.24e3, 1.54e3, 768e3, 787e3, 124e3, 113e3, 28.7e3, 3.4e3, 16.9e3, 715, 7.5e3, 5.1e3, 560, 59e3, 499e3, 909e3, 1.15e3, 715e3, 536e3, 976e3, 12.7e3, 5.6e3, 1.24e3, 33.2e3, 3.32e3, 40.2e3, 510e3, 2.15e3, 976, 287e3, 11.8e3, 9.31e3, 11.5e3, 412, 8.45e3, 261e3, 3.16e3, 3.92e3, 32.4e3, 4.7e3, 36e3, 931, 1.74e3, 487e3, 240, 620e3, 453e3, 6.19e3, 4.53e3, 487, 649, 442, 6.49e3, 620, 12e3, 33e3, 1.13e3, 464, 71.5e3, 931e3, 2.05e3, 86.6e3, 294, 255e3, 43e3, 360, 374, 2.61e3, 1.82e3, 60.4e3, 150e3, 390, 300e3, 10.7e3, 75e3, 4.22e3, 43.2e3, 16.5e3, 73.2e3, 39.2e3, 14.3e3, 2.32e3, 221e3, 681e3, 13.7e3, 16.2e3, 560e3, 120e3, 1e3, 1e6, 10.2e3, 768, 1.47e3, 383, 270e3, 3.48e3, 137e3, 102e3, 237, 590, 10.5e3, 2.4e3, 1.43e3, 220e3, 604e3, 301, 5.49e3, 750, 432, 806e3, 1.65e3, 412e3, 23.7e3, 147e3, 115e3, 9.1e3, 31.6e3, 3.74e3, 255, 160e3, 51e3, 27e3, 2.8e3, 287, 105e3, 549, 182e3, 360e3, 14e3, 806, 66.5e3, 5.76e3, 6.04e3, 180e3, 2.74e3, 4.75e3, 270, 24.9e3, 16e3, 100e3, 430, 22.1e3, 365e3, 1.33e3, 280, 57.6e3, 19.6e3, 8.06e3, 1.87e3, 402e3, 237e3, 82e3, 866, 26.1e3, 200, 127e3, 510, 357, 226e3, 274e3, 53.6e3, 340e3, 46.4e3, 549e3, 7.68e3, 274, 3.57e3, 78.7e3, 499, 2.21e3, 18.2e3, 2.55e3, 3.3e3, 243e3, 390e3, 249e3, 1.1e3, 15e3, 143e3, 953, 2e3, 1.18e3, 24.3e3, 25.5e3, 576e3, 17.8e3, 221, 165e3, 2.87e3, 562, 910e3, 470e3, 619, 2.49e3, 6.81e3, 8.2e3, 523e3, 232, 680e3, 732e3, 866e3, 576, 4.42e3, 107e3, 634e3, 1.58e3, 1.02e3, 30.9e3, 280e3, 39e3, 309, 28e3, 6.8e3, 45.3e3, 18e3, 68e3, 348e3, 48.7e3, 845e3, 316e3, 210e3, 1.78e3, 41.2e3, 56.2e3, 887e3, 562e3, 1.8e3, 226, 21.5e3, 121e3, 422, 3.9e3, 12.1e3, 9.09e3, 665e3, 1.3e3, 2.7e3, 6.2e3, 698, 27.4e3, 36.5e3, 392e3, 215e3, 51.1e3, 332e3, 47.5e3, 7.32e3, 1.4e3, 12.4e3, 34.8e3, 37.4e3, 69.8e3, 4.99e3, 10e3, 6.34e3, 110e3, 392, 432e3, 42.2e3, 887, 215, 1.07e3, 430e3, 1.91e3, 54.9e3, 8.87e3, 324, 348, 909, 205, 18.7e3, 511, 365, 787, 210, 5.62e3, 249, 6.98e3, 47e3, 187e3, 3.09e3, 4.32e3, 196e3, 442e3, 21e3, 3.01e3, 162e3, 82.5e3, 200e3, 2.26e3, 374e3, 267, 56e3, 20e3, 19.1e3, 118e3, 750e3, 93.1e3, 178e3, 5.23e3, 4.64e3, 1.96e3, 820e3, 91e3, 383e3, 294e3, 340, 536, 732, 681, 52.3e3, 475e3, 475, 2.94e3, 158e3, 1.62e3, 402, 8.66e3, 44.2e3, 232e3, 76.8e3, 154e3, 88.7e3, 23.2e3, 63.4e3, 6.65e3, 9.53e3, 523, 22.6e3, 240e3, 62e3, 35.7e3, 910, 2.67e3, 90.9e3, 34e3, 698e3, 4.3e3, 2.37e3, 220, 11e3, 324e3, 953e3, 3.65e3, 422e3, 97.6e3, 133e3, 61.9e3, 1.05e3, 95.3e3, 174e3, 464e3, 590e3, 309e3, 240, 825e3, 9.76e3, 68.1e3, 13.3e3, 1.37e3, 29.4e3, 1.69e3, 4.87e3, 820, 5.9e3, 7.87e3, 301e3, 2.2e3, 49.9e3]\n",
    "def findResistor(value):\n",
    "    guess = ERJ_PB6B_series[min(range(len(ERJ_PB6B_series)), key = lambda i: abs(ERJ_PB6B_series[i]-value))] \n",
    "    error = (guess-value)/value\n",
    "    return guess, error"
   ]
  },
  {
   "cell_type": "code",
   "execution_count": 2,
   "metadata": {},
   "outputs": [],
   "source": [
    "def cal_UVLO_OVLO(Rtotal, V_OV_OFF, V_UV_ON, V_UV_OFF):\n",
    "    #Rtotal  = 1.05e6\n",
    "    #V_OV_OFF = 36\n",
    "    #V_UV_ON = 16.5\n",
    "    #V_UV_OFF = 15.5\n",
    "\n",
    "    R4=(0.795/V_OV_OFF)*Rtotal\n",
    "    R3=(V_OV_OFF/V_UV_ON-1)*R4\n",
    "    R2=(V_UV_ON/V_UV_OFF-1)*(V_OV_OFF/V_UV_ON)*R4\n",
    "    R1=(V_OV_OFF/0.795-1)*R4-R3-R2\n",
    "\n",
    "    #print('R1:', fmt_ohm(R1), ', R2:', fmt_ohm(R2), ', R3:', fmt_ohm(R3), ', R4:', fmt_ohm(R4))\n",
    "\n",
    "    R1_act, R1_err = findResistor(R1)\n",
    "    R2_act, R2_err = findResistor(R2)\n",
    "    R3_act, R3_err = findResistor(R3)\n",
    "    R4_act, R4_err = findResistor(R4)\n",
    "\n",
    "    #print('R1:', fmt_ohm(R1_act), '{:.2%}'.format(R1_err), ', R2:', fmt_ohm(R2_act), '{:.2%}'.format(R2_err),\\\n",
    "    #      ', R3:', fmt_ohm(R3_act), '{:.2%}'.format(R3_err), ', R4:', fmt_ohm(R4_act), '{:.2%}'.format(R4_err))\n",
    "\n",
    "    Rtotal_act = R1_act+R2_act+R3_act+R4_act\n",
    "    V_OV_OFF_act = Rtotal_act*0.795/R4_act\n",
    "    V_UV_ON_act = V_OV_OFF_act/(R3_act/R4_act+1)\n",
    "    V_UV_OFF_act = V_UV_ON_act/((R2_act*V_UV_ON)/(R4_act*V_OV_OFF)+1)\n",
    "\n",
    "    #print('RT:', fmt_ohm(Rtotal_act), ', V_OV_OFF:', fmt_volts(V_OV_OFF_act),\\\n",
    "    #      ', V_UV_ON:', fmt_volts(V_UV_ON_act), ', V_UV_OFF:', fmt_volts(V_UV_OFF_act))\n",
    "\n",
    "    return (R1_act,R2_act,R3_act,R4_act,Rtotal_act,V_OV_OFF_act,V_UV_ON_act,V_UV_OFF_act)"
   ]
  },
  {
   "cell_type": "code",
   "execution_count": 3,
   "metadata": {},
   "outputs": [
    {
     "name": "stdout",
     "output_type": "stream",
     "text": [
      "4 V_UV_ON: 13.1004 V , V_UV_OFF: 12.3042 V R1: 931 kΩ , R2: 3.9 kΩ , R3: 38.3 kΩ , R4: 22.1 kΩ\n",
      "5 V_UV_ON: 16.5645 V , V_UV_OFF: 15.5669 V R1: 953 kΩ , R2: 3.09 kΩ , R3: 26.1 kΩ , R4: 22.1 kΩ\n",
      "6 V_UV_ON: 19.7404 V , V_UV_OFF: 18.5364 V R1: 953 kΩ , R2: 2.61 kΩ , R3: 18 kΩ , R4: 22.1 kΩ\n",
      "7 V_UV_ON: 22.8064 V , V_UV_OFF: 21.4312 V R1: 953 kΩ , R2: 2.21 kΩ , R3: 12.4 kΩ , R4: 22.1 kΩ\n",
      "8 V_UV_ON: 26.5735 V , V_UV_OFF: 24.9507 V R1: 976 kΩ , R2: 1.96 kΩ , R3: 8.06 kΩ , R4: 22.1 kΩ\n"
     ]
    }
   ],
   "source": [
    "Rtotal = 1.0e6\n",
    "V_OV_OFF = 36\n",
    "\n",
    "for S in range(4,9):\n",
    "    V_UV_ON = S*3.3\n",
    "    V_UV_OFF = S*3.1\n",
    "    (R1_act,R2_act,R3_act,R4_act,Rtotal_act,V_OV_OFF_act,V_UV_ON_act,V_UV_OFF_act)=cal_UVLO_OVLO(Rtotal, V_OV_OFF, V_UV_ON, V_UV_OFF)\n",
    "\n",
    "    print(S, 'V_UV_ON:', fmt_volts(V_UV_ON_act), ', V_UV_OFF:', fmt_volts(V_UV_OFF_act),\\\n",
    "      'R1:', fmt_ohm(R1_act), ', R2:', fmt_ohm(R2_act),\\\n",
    "      ', R3:', fmt_ohm(R3_act), ', R4:', fmt_ohm(R4_act))"
   ]
  }
 ],
 "metadata": {
  "kernelspec": {
   "display_name": "Python 3",
   "language": "python",
   "name": "python3"
  },
  "language_info": {
   "codemirror_mode": {
    "name": "ipython",
    "version": 3
   },
   "file_extension": ".py",
   "mimetype": "text/x-python",
   "name": "python",
   "nbconvert_exporter": "python",
   "pygments_lexer": "ipython3",
   "version": "3.6.3"
  }
 },
 "nbformat": 4,
 "nbformat_minor": 2
}
